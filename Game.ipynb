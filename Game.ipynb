{
 "cells": [
  {
   "cell_type": "code",
   "execution_count": null,
   "metadata": {
    "id": "psxeZmW0GR7y"
   },
   "outputs": [],
   "source": [
    "!apt-get install x11-utils > /dev/null 2>&1 \n"
   ]
  },
  {
   "cell_type": "code",
   "execution_count": null,
   "metadata": {
    "id": "35L4hsBOHmJG"
   },
   "outputs": [],
   "source": [
    "!pip install pyglet > /dev/null 2>&1 \n",
    "!apt-get install -y xvfb python-opengl > /dev/null 2>&1"
   ]
  },
  {
   "cell_type": "code",
   "execution_count": null,
   "metadata": {
    "id": "dRmUCJubHqac"
   },
   "outputs": [],
   "source": [
    "!pip install gym pyvirtualdisplay > /dev/null 2>&1"
   ]
  },
  {
   "cell_type": "code",
   "execution_count": null,
   "metadata": {
    "colab": {
     "base_uri": "https://localhost:8080/"
    },
    "id": "qVer61axIwQz",
    "outputId": "05ed418e-9bb9-41ce-bb6e-e14a88967437"
   },
   "outputs": [
    {
     "name": "stdout",
     "output_type": "stream",
     "text": [
      "Looking in indexes: https://pypi.org/simple, https://us-python.pkg.dev/colab-wheels/public/simple/\n",
      "Requirement already satisfied: gym[box2d] in /usr/local/lib/python3.8/dist-packages (0.25.2)\n",
      "Requirement already satisfied: gym-notices>=0.0.4 in /usr/local/lib/python3.8/dist-packages (from gym[box2d]) (0.0.8)\n",
      "Requirement already satisfied: cloudpickle>=1.2.0 in /usr/local/lib/python3.8/dist-packages (from gym[box2d]) (2.2.1)\n",
      "Requirement already satisfied: numpy>=1.18.0 in /usr/local/lib/python3.8/dist-packages (from gym[box2d]) (1.21.6)\n",
      "Requirement already satisfied: importlib-metadata>=4.8.0 in /usr/local/lib/python3.8/dist-packages (from gym[box2d]) (6.0.0)\n",
      "Collecting swig==4.*\n",
      "  Downloading swig-4.1.1-py2.py3-none-manylinux_2_5_x86_64.manylinux1_x86_64.whl (1.8 MB)\n",
      "\u001b[2K     \u001b[90m━━━━━━━━━━━━━━━━━━━━━━━━━━━━━━━━━━━━━━━━\u001b[0m \u001b[32m1.8/1.8 MB\u001b[0m \u001b[31m24.1 MB/s\u001b[0m eta \u001b[36m0:00:00\u001b[0m\n",
      "\u001b[?25hCollecting pygame==2.1.0\n",
      "  Downloading pygame-2.1.0-cp38-cp38-manylinux_2_17_x86_64.manylinux2014_x86_64.whl (18.3 MB)\n",
      "\u001b[2K     \u001b[90m━━━━━━━━━━━━━━━━━━━━━━━━━━━━━━━━━━━━━━━━\u001b[0m \u001b[32m18.3/18.3 MB\u001b[0m \u001b[31m65.4 MB/s\u001b[0m eta \u001b[36m0:00:00\u001b[0m\n",
      "\u001b[?25hCollecting box2d-py==2.3.5\n",
      "  Downloading box2d-py-2.3.5.tar.gz (374 kB)\n",
      "\u001b[2K     \u001b[90m━━━━━━━━━━━━━━━━━━━━━━━━━━━━━━━━━━━━━━\u001b[0m \u001b[32m374.4/374.4 KB\u001b[0m \u001b[31m31.5 MB/s\u001b[0m eta \u001b[36m0:00:00\u001b[0m\n",
      "\u001b[?25h  Preparing metadata (setup.py) ... \u001b[?25l\u001b[?25hdone\n",
      "Requirement already satisfied: zipp>=0.5 in /usr/local/lib/python3.8/dist-packages (from importlib-metadata>=4.8.0->gym[box2d]) (3.12.0)\n",
      "Building wheels for collected packages: box2d-py\n",
      "  \u001b[1;31merror\u001b[0m: \u001b[1msubprocess-exited-with-error\u001b[0m\n",
      "  \n",
      "  \u001b[31m×\u001b[0m \u001b[32mpython setup.py bdist_wheel\u001b[0m did not run successfully.\n",
      "  \u001b[31m│\u001b[0m exit code: \u001b[1;36m1\u001b[0m\n",
      "  \u001b[31m╰─>\u001b[0m See above for output.\n",
      "  \n",
      "  \u001b[1;35mnote\u001b[0m: This error originates from a subprocess, and is likely not a problem with pip.\n",
      "  Building wheel for box2d-py (setup.py) ... \u001b[?25lerror\n",
      "\u001b[31m  ERROR: Failed building wheel for box2d-py\u001b[0m\u001b[31m\n",
      "\u001b[0m\u001b[?25h  Running setup.py clean for box2d-py\n",
      "Failed to build box2d-py\n",
      "Installing collected packages: swig, box2d-py, pygame\n",
      "  Running setup.py install for box2d-py ... \u001b[?25l\u001b[?25hdone\n",
      "\u001b[33m  DEPRECATION: box2d-py was installed using the legacy 'setup.py install' method, because a wheel could not be built for it. A possible replacement is to fix the wheel build issue reported above. Discussion can be found at https://github.com/pypa/pip/issues/8368\u001b[0m\u001b[33m\n",
      "\u001b[0mSuccessfully installed box2d-py-2.3.5 pygame-2.1.0 swig-4.1.1\n"
     ]
    }
   ],
   "source": [
    "!pip install gym[box2d]"
   ]
  },
  {
   "cell_type": "code",
   "execution_count": null,
   "metadata": {
    "colab": {
     "base_uri": "https://localhost:8080/",
     "height": 130
    },
    "id": "MUUWZ23V9eKo",
    "outputId": "68d74ff5-2ffe-4aa8-e02d-df8e06ddcb44"
   },
   "outputs": [
    {
     "ename": "SyntaxError",
     "evalue": "ignored",
     "output_type": "error",
     "traceback": [
      "\u001b[0;36m  File \u001b[0;32m\"<ipython-input-7-0c7794828e2b>\"\u001b[0;36m, line \u001b[0;32m1\u001b[0m\n\u001b[0;31m    python gym/envs/box2d/lunar_lander.py\u001b[0m\n\u001b[0m           ^\u001b[0m\n\u001b[0;31mSyntaxError\u001b[0m\u001b[0;31m:\u001b[0m invalid syntax\n"
     ]
    }
   ],
   "source": [
    "python gym/envs/box2d/lunar_lander.py"
   ]
  },
  {
   "cell_type": "code",
   "execution_count": 2,
   "metadata": {
    "id": "7TWp4TJlHvYG"
   },
   "outputs": [],
   "source": [
    "import gym\n",
    "import pandas as pd\n",
    "import numpy as np\n",
    "import matplotlib.pyplot as plt\n",
    "from IPython import display as ipythondisplay\n"
   ]
  },
  {
   "cell_type": "code",
   "execution_count": 3,
   "metadata": {
    "colab": {
     "base_uri": "https://localhost:8080/"
    },
    "id": "jrLwcbcHHRvb",
    "outputId": "3cf19d03-ac2d-4ae7-dcb9-8695d4625f0f"
   },
   "outputs": [
    {
     "data": {
      "text/plain": [
       "<pyvirtualdisplay.display.Display at 0x7f456fd0ca00>"
      ]
     },
     "execution_count": 3,
     "metadata": {},
     "output_type": "execute_result"
    }
   ],
   "source": [
    "from pyvirtualdisplay import Display\n",
    "display = Display(visible=0, size=(400, 300))\n",
    "display.start()"
   ]
  },
  {
   "cell_type": "code",
   "execution_count": 4,
   "metadata": {
    "colab": {
     "base_uri": "https://localhost:8080/",
     "height": 269
    },
    "id": "dDfJh2fLHykB",
    "outputId": "a4601706-005d-4693-80f8-30f3bd614e80"
   },
   "outputs": [
    {
     "data": {
      "image/png": "[encoded data removed]",
      "text/plain": [
       "<Figure size 432x288 with 1 Axes>"
      ]
     },
     "metadata": {
      "needs_background": "light"
     },
     "output_type": "display_data"
    }
   ],
   "source": [
    "list = []\n",
    "env = gym.make(\"LunarLander-v2\")\n",
    "env.reset()\n",
    "sum_reward = 0;\n",
    "prev_screen = env.render(mode='rgb_array')\n",
    "plt.imshow(prev_screen)\n",
    "Q = []\n",
    "r = []\n",
    "n = 5\n",
    "for i in range(n):\n",
    "  obs_space = env.reset() #initial state by reset\n",
    "  action = env.action_space.sample() #random action\n",
    "  new_obs, reward, done, info = env.step(action) #new state, reward\n",
    "  screen = env.render(mode='rgb_array')\n",
    "  \n",
    "  plt.imshow(screen)\n",
    "  ipythondisplay.clear_output(wait=True)\n",
    "  ipythondisplay.display(plt.gcf())\n",
    " \n",
    "  sum_reward += reward #sum of the reward for each iteration\n",
    "  list.append(obs_space)\n",
    "  list.append(action)\n",
    "  list.append(new_obs)\n",
    "  r.append(reward)\n",
    "  list.append(sum_reward)\n",
    "  if done:\n",
    "    break\n",
    "   \n",
    "ipythondisplay.clear_output(wait=True)\n",
    "env.close()"
   ]
  },
  {
   "cell_type": "code",
   "execution_count": 9,
   "metadata": {
    "colab": {
     "base_uri": "https://localhost:8080/"
    },
    "id": "YZ3_ehks_Nnl",
    "outputId": "586a4f8b-4dd4-46fb-8375-5f67def41248"
   },
   "outputs": [
    {
     "name": "stdout",
     "output_type": "stream",
     "text": [
      "[-1.0947691776232904, 1.2020945896343418, 2.224579740917433, 3.2198809351882134, 0.5146656133332228]\n"
     ]
    }
   ],
   "source": [
    "Qf = []\n",
    "x = sum_reward\n",
    "for i in range(n):\n",
    "  if i == n-1:\n",
    "    break\n",
    "  if i < 1:\n",
    "    Qf.append(x) \n",
    "  x -= r[i]\n",
    "  Qf.append(x) \n",
    "print(Qf)"
   ]
  },
  {
   "cell_type": "code",
   "execution_count": 6,
   "metadata": {
    "colab": {
     "base_uri": "https://localhost:8080/"
    },
    "id": "toUcM173_Up3",
    "outputId": "78668533-a278-4d91-8af6-354511db5b20"
   },
   "outputs": [
    {
     "name": "stdout",
     "output_type": "stream",
     "text": [
      "[-2.296863767257632, -1.0224851512830913, -0.9953011942707803, 2.7052153218549906, 0.5146656133332226]\n"
     ]
    }
   ],
   "source": [
    "print(r)"
   ]
  },
  {
   "cell_type": "code",
   "execution_count": 7,
   "metadata": {
    "colab": {
     "base_uri": "https://localhost:8080/"
    },
    "id": "LW-aI7-jDqfm",
    "outputId": "82c52f84-ed41-47e3-a15f-44b046534c78"
   },
   "outputs": [
    {
     "data": {
      "text/plain": [
       "-1.0947691776232904"
      ]
     },
     "execution_count": 7,
     "metadata": {},
     "output_type": "execute_result"
    }
   ],
   "source": [
    "sum(r) #sum"
   ]
  },
  {
   "cell_type": "code",
   "execution_count": 8,
   "metadata": {
    "colab": {
     "base_uri": "https://localhost:8080/"
    },
    "id": "NAkXITGMMQyr",
    "outputId": "8f727ee4-a7ce-489c-c3c8-b88c1a40b8cc"
   },
   "outputs": [
    {
     "data": {
      "text/plain": [
       "-1.0947691776232904"
      ]
     },
     "execution_count": 8,
     "metadata": {},
     "output_type": "execute_result"
    }
   ],
   "source": [
    "Q = sum_reward #sum\n",
    "Q"
   ]
  },
  {
   "cell_type": "code",
   "execution_count": 10,
   "metadata": {
    "colab": {
     "base_uri": "https://localhost:8080/"
    },
    "id": "L1_yEV2F7E68",
    "outputId": "576ace7d-94f3-497b-a1fe-578abd546bb7"
   },
   "outputs": [
    {
     "data": {
      "text/plain": [
       "[array([-0.00428696,  1.4032488 , -0.43423396, -0.34095135,  0.00497426,\n",
       "         0.09836034,  0.        ,  0.        ], dtype=float32),\n",
       " 1,\n",
       " array([-0.00866127,  1.3950117 , -0.44456777, -0.36613378,  0.01202376,\n",
       "         0.14100435,  0.        ,  0.        ], dtype=float32),\n",
       " -2.296863767257632,\n",
       " array([ 0.00203829,  1.4011714 ,  0.20644578, -0.43327245, -0.00235511,\n",
       "        -0.046763  ,  0.        ,  0.        ], dtype=float32),\n",
       " 1,\n",
       " array([ 0.00400162,  1.3908347 ,  0.19676557, -0.45940983, -0.00278097,\n",
       "        -0.00851715,  0.        ,  0.        ], dtype=float32),\n",
       " -3.3193489185407232,\n",
       " array([-0.00685205,  1.4049432 , -0.694047  , -0.2656687 ,  0.00794653,\n",
       "         0.15721196,  0.        ,  0.        ], dtype=float32),\n",
       " 0,\n",
       " array([-0.01370459,  1.3983899 , -0.6931093 , -0.29132178,  0.01571492,\n",
       "         0.15538326,  0.        ,  0.        ], dtype=float32),\n",
       " -4.314650112811504,\n",
       " array([-3.1023024e-04,  1.4012612e+00, -3.1439621e-02, -4.2928237e-01,\n",
       "         3.6628329e-04,  7.1215602e-03,  0.0000000e+00,  0.0000000e+00],\n",
       "       dtype=float32),\n",
       " 2,\n",
       " array([-4.6939851e-04,  1.3920784e+00, -1.7018016e-02, -4.0812790e-01,\n",
       "         1.4465243e-03,  2.1608038e-02,  0.0000000e+00,  0.0000000e+00],\n",
       "       dtype=float32),\n",
       " -1.609434790956513,\n",
       " array([ 0.00702028,  1.4136138 ,  0.71105707,  0.11969854, -0.00812788,\n",
       "        -0.16106495,  0.        ,  0.        ], dtype=float32),\n",
       " 1,\n",
       " array([ 0.0139679 ,  1.415743  ,  0.7009572 ,  0.09458626, -0.0142522 ,\n",
       "        -0.12249681,  0.        ,  0.        ], dtype=float32),\n",
       " -1.0947691776232904]"
      ]
     },
     "execution_count": 10,
     "metadata": {},
     "output_type": "execute_result"
    }
   ],
   "source": [
    "list"
   ]
  },
  {
   "cell_type": "code",
   "execution_count": null,
   "metadata": {
    "colab": {
     "base_uri": "https://localhost:8080/"
    },
    "id": "U0yUiiHuIzXF",
    "outputId": "7bcbf3ac-3414-47ca-b1f2-14a05fda5e4d"
   },
   "outputs": [
    {
     "data": {
      "text/plain": [
       "-74.26350937305072"
      ]
     },
     "execution_count": 15,
     "metadata": {},
     "output_type": "execute_result"
    }
   ],
   "source": [
    "var = 0\n",
    "for i in range(1,n): #R2\n",
    "  var += r[i]\n",
    "var"
   ]
  },
  {
   "cell_type": "code",
   "execution_count": null,
   "metadata": {
    "colab": {
     "base_uri": "https://localhost:8080/"
    },
    "id": "G7jJjLOgJRfe",
    "outputId": "92585e98-70b4-4b0c-e645-827de05cd7da"
   },
   "outputs": [
    {
     "data": {
      "text/plain": [
       "-73.1271204522429"
      ]
     },
     "execution_count": 16,
     "metadata": {},
     "output_type": "execute_result"
    }
   ],
   "source": [
    "var = 0 \n",
    "for i in range(2,n):   #R3\n",
    "  var += r[i]\n",
    "var "
   ]
  },
  {
   "cell_type": "code",
   "execution_count": null,
   "metadata": {
    "colab": {
     "base_uri": "https://localhost:8080/"
    },
    "id": "ee7cZtGLLb9f",
    "outputId": "dfd0dc41-68ba-4a92-9330-d969b9211eca"
   },
   "outputs": [
    {
     "data": {
      "text/plain": [
       "-70.79853314664113"
      ]
     },
     "execution_count": 17,
     "metadata": {},
     "output_type": "execute_result"
    }
   ],
   "source": [
    "var = 0\n",
    "for i in range(3,n):   #R4\n",
    "  var += r[i]\n",
    "var  "
   ]
  },
  {
   "cell_type": "code",
   "execution_count": null,
   "metadata": {
    "colab": {
     "base_uri": "https://localhost:8080/"
    },
    "id": "pPWw2ctRH2Qy",
    "outputId": "d448e0d0-4181-4660-f7e0-0ff476130dbd"
   },
   "outputs": [
    {
     "data": {
      "text/plain": [
       "<pyvirtualdisplay.display.Display at 0x7fd8ebb8e3a0>"
      ]
     },
     "execution_count": 18,
     "metadata": {},
     "output_type": "execute_result"
    }
   ],
   "source": [
    "display.stop()"
   ]
  }
 ],
 "metadata": {
  "colab": {
   "provenance": []
  },
  "kernelspec": {
   "display_name": "Python 3",
   "language": "python",
   "name": "python3"
  },
  "language_info": {
   "codemirror_mode": {
    "name": "ipython",
    "version": 3
   },
   "file_extension": ".py",
   "mimetype": "text/x-python",
   "name": "python",
   "nbconvert_exporter": "python",
   "pygments_lexer": "ipython3",
   "version": "3.8.8"
  }
 },
 "nbformat": 4,
 "nbformat_minor": 1
}
